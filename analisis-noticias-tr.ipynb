{
 "cells": [
  {
   "cell_type": "markdown",
   "metadata": {},
   "source": [
    "# How the News impact on Stock Prices?:\n",
    "___"
   ]
  },
  {
   "cell_type": "markdown",
   "metadata": {},
   "source": [
    "# Loading libraries:"
   ]
  },
  {
   "cell_type": "code",
   "execution_count": null,
   "metadata": {},
   "outputs": [],
   "source": [
    "import eikon as ek\n",
    "import pandas as pd\n",
    "import numpy as np\n",
    "from bs4 import BeautifulSoup\n",
    "from textblob import TextBlob\n",
    "import datetime\n",
    "from datetime import time\n",
    "import plotly\n",
    "from plotly.offline import download_plotlyjs, init_notebook_mode, plot, iplot\n",
    "import plotly.graph_objs as go\n",
    "init_notebook_mode(connected=True)\n",
    "import warnings\n",
    "warnings.filterwarnings(\"ignore\")"
   ]
  },
  {
   "cell_type": "code",
   "execution_count": null,
   "metadata": {},
   "outputs": [],
   "source": [
    "ek.set_app_id('**********')"
   ]
  },
  {
   "cell_type": "markdown",
   "metadata": {},
   "source": [
    "# I keep headlines and news IDs from last year"
   ]
  },
  {
   "cell_type": "markdown",
   "metadata": {},
   "source": [
    "I keep news headlines from the last year, the API limits to 100 news but with a loop I can concatenate more:"
   ]
  },
  {
   "cell_type": "code",
   "execution_count": null,
   "metadata": {},
   "outputs": [],
   "source": [
    "start_open, end_open = '2017-12-07T09:00:00', '2018-06-12T09:00:00'\n",
    "start_close, end_close = '2017-12-07T16:55:00', '2018-06-12T16:55:00'\n",
    "\n",
    "start_open, end_open = datetime.datetime.strptime(start_open, \"%Y-%m-%dT%H:%M:%S\"), \\\n",
    "                                    datetime.datetime.strptime(end_close, \"%Y-%m-%dT%H:%M:%S\")\n",
    "start_close, end_close = datetime.datetime.strptime(start_close, \"%Y-%m-%dT%H:%M:%S\"), \\\n",
    "                                    datetime.datetime.strptime(end_close, \"%Y-%m-%dT%H:%M:%S\")\n",
    "\n",
    "dif = int((end_open-start_open).total_seconds()/(3600*24)) ## time difference in days\n",
    "\n",
    "start_date = [(start_open + datetime.timedelta(hours=24*x)).strftime(\"%Y-%m-%dT%H:%M:%S\") for x in range(dif+1)]\n",
    "end_date = [(end_open + datetime.timedelta(hours=24*x)).strftime(\"%Y-%m-%dT%H:%M:%S\") for x in range(dif+1)]"
   ]
  },
  {
   "cell_type": "code",
   "execution_count": null,
   "metadata": {},
   "outputs": [],
   "source": [
    "df = pd.DataFrame()\n",
    "for date, end_date in zip(start_date,end_date): \n",
    "    aux = ek.get_news_headlines('R:IBM.N AND Language:LEN', date_from = date, date_to = end_date, count=20)\n",
    "    df = pd.concat([df, aux])\n",
    "df.head()"
   ]
  },
  {
   "cell_type": "code",
   "execution_count": null,
   "metadata": {},
   "outputs": [],
   "source": [
    "elements = len(df.index)\n",
    "print(u'I have a total of %s news to analyze' %elements)"
   ]
  },
  {
   "cell_type": "markdown",
   "metadata": {},
   "source": [
    "# Sentimental analysis of the news"
   ]
  },
  {
   "cell_type": "markdown",
   "metadata": {},
   "source": [
    "I create 3 columns to store variables that I will generate later:"
   ]
  },
  {
   "cell_type": "code",
   "execution_count": null,
   "metadata": {},
   "outputs": [],
   "source": [
    "df['Polarity'] = np.nan\n",
    "df['Subjectivity'] = np.nan\n",
    "df['Categorization'] = np.nan"
   ]
  },
  {
   "cell_type": "markdown",
   "metadata": {},
   "source": [
    "We have a dataframe with the news headlines and the IDs that Thomson Reuters has assigned to those news items. With that ID we'll be able to access the news itself and analyze it:"
   ]
  },
  {
   "cell_type": "code",
   "execution_count": null,
   "metadata": {},
   "outputs": [],
   "source": [
    "for index, noticiaID in enumerate(df['storyId'].values): # Itero for all rows of the dataframe\n",
    "    try:\n",
    "        text = ek.get_news_story(noticiaID) # I get the text of each of the news\n",
    "        if text:\n",
    "            soup = BeautifulSoup(text, \"lxml\") # I create a BeautifulSoup object from our HTML article\n",
    "            sents = TextBlob(soup.get_text()) # I pass the text of the article to TextBlob for analysis\n",
    "            df['Polarity'].iloc[index] = sents.sentiment.polarity # I keep the polarity of sentiment in the dataframe\n",
    "            df['Subjectivity'].iloc[index] = sents.sentiment.subjectivity # I keep the subjectivity 0->objective 1->subjective\n",
    "            if sents.sentiment.polarity >= 0.05: # I categorize polarities -1->negative 1->positive\n",
    "                score = 'Positive\n",
    "            elif -.05 < sents.sentiment.polarity < 0.05:\n",
    "                score = 'Neutral\n",
    "            else:\n",
    "                score = 'Negative\n",
    "            df['Categorization'].iloc[index] = score \n",
    "            if indice%20==0: # I put a counter to see where the theme goes\n",
    "                print(u'I'm going for the %s' % index)\n",
    "    except:\n",
    "        pass\n",
    "df.head(3)"
   ]
  },
  {
   "cell_type": "markdown",
   "metadata": {},
   "source": [
    "# I analyze the impact of the news on the price ceteris paribus\n",
    "___"
   ]
  },
  {
   "cell_type": "markdown",
   "metadata": {},
   "source": [
    "I get a time series of prices on every minute, from the minimum news date. Note, it returns a maximum of 50 thousand minutes so I have approximately 6 months of data (from the present to the start date)."
   ]
  },
  {
   "cell_type": "code",
   "execution_count": null,
   "metadata": {},
   "outputs": [],
   "source": [
    "inicio = df['versionCreated'].min().replace(hour=0,minute=0,second=0,microsecond=0).strftime('%Y/%m/%d')\n",
    "fin = df['versionCreated'].max().replace(hour=0,minute=0,second=0,microsecond=0).strftime('%Y/%m/%d')\n",
    "minute = ek.get_timeseries([\"IBM.N\"], start_date=inicio, interval=\"minute\")\n",
    "minute.tail()"
   ]
  },
  {
   "cell_type": "code",
   "execution_count": null,
   "metadata": {},
   "outputs": [],
   "source": [
    "min(minute.index), max(minute.index)"
   ]
  },
  {
   "cell_type": "markdown",
   "metadata": {},
   "source": [
    "I define variables for saving the impacts after some minutes:"
   ]
  },
  {
   "cell_type": "code",
   "execution_count": null,
   "metadata": {},
   "outputs": [],
   "source": [
    "df['2Minutes'] = np.nan\n",
    "df['5minutes'] = np.nan\n",
    "df['10minutes'] = np.nan\n",
    "df['30minutes'] = np.nan\n",
    "df['1hour'] = np.nan\n",
    "df.head(3)"
   ]
  },
  {
   "cell_type": "markdown",
   "metadata": {},
   "source": [
    "I get the variation in each time interval as:\n",
    "$$\\triangle_{t\\rightarrow t+x} = \\Bigl ( \\frac{Valor_{t+x}}{Valor_t} -1\\Bigr) * 100$$"
   ]
  },
  {
   "cell_type": "code",
   "execution_count": null,
   "metadata": {},
   "outputs": [],
   "source": [
    "for index, date_new in enumerate(df['versionCreated'].values):\n",
    "    sTime = df['versionCreated'][index]\n",
    "    sTime = sTime.replace(second=0,microsecond=0) # Quito segundos y micros para ir a nivel minuto\n",
    "    try:\n",
    "        t0 = minuto.iloc[minuto.index.get_loc(sTime),2] # Lo que vale al crearse la noticia\n",
    "        df['2Minutes'][index] = ((minuto.iloc[minuto.index.get_loc((sTime + datetime.timedelta(minutes=2))),3]/(t0)-1)*100)\n",
    "        df['5minutes'][index] = ((minuto.iloc[minuto.index.get_loc((sTime + datetime.timedelta(minutes=5))),3]/(t0)-1)*100)\n",
    "        df['10minutes'][index] = ((minuto.iloc[minuto.index.get_loc((sTime + datetime.timedelta(minutes=10))),3]/(t0)-1)*100) \n",
    "        df['30minutes'][index] = ((minuto.iloc[minuto.index.get_loc((sTime + datetime.timedelta(minutes=30))),3]/(t0)-1)*100)\n",
    "        df['1hour'][index] = ((minuto.iloc[minuto.index.get_loc((sTime + datetime.timedelta(minutes=60))),3]/(t0)-1)*100)\n",
    "    except:\n",
    "        pass\n",
    "df.head(3)"
   ]
  },
  {
   "cell_type": "code",
   "execution_count": null,
   "metadata": {},
   "outputs": [],
   "source": [
    "df.isnull().sum()"
   ]
  },
  {
   "cell_type": "code",
   "execution_count": null,
   "metadata": {},
   "outputs": [],
   "source": [
    "df = df.dropna()\n",
    "df.head(3)"
   ]
  },
  {
   "cell_type": "code",
   "execution_count": null,
   "metadata": {},
   "outputs": [],
   "source": [
    "grouped = df.groupby(['Categorization']).mean()\n",
    "grouped"
   ]
  },
  {
   "cell_type": "markdown",
   "metadata": {},
   "source": [
    "The negative news brings IBM's shares down by an average of 0.14 percent in the next 10 minutes, while the good news brings them down by 0.011 percent. This is biased towards IBM shares, but what we can deduce is that in the very short term the news has an impact on the share price."
   ]
  },
  {
   "cell_type": "markdown",
   "metadata": {},
   "source": [
    "# Visualizations"
   ]
  },
  {
   "cell_type": "code",
   "execution_count": null,
   "metadata": {},
   "outputs": [],
   "source": [
    "df = df[~df.index.duplicated()]"
   ]
  },
  {
   "cell_type": "code",
   "execution_count": null,
   "metadata": {},
   "outputs": [],
   "source": [
    "positives = df.loc[df['Categorization']=='Positive'].groupby(df['versionCreated'].dt.\\\n",
    "                            strftime('%Y-%m-%d'))['Categorization'].count().sort_index().reset_index()\n",
    "negatives = df.loc[df['Categorization']=='Negative'].groupby(df['versionCreated'].dt.\\\n",
    "                            strftime('%Y-%m-%d'))['Categorization'].count().sort_index().reset_index()\n",
    "neutrals = df.loc[df['Categorization']=='Neutral'].groupby(df['versionCreated'].dt.\\\n",
    "                            strftime('%Y-%m-%d'))['Categorization'].count().sort_index().reset_index()"
   ]
  },
  {
   "cell_type": "code",
   "execution_count": null,
   "metadata": {},
   "outputs": [],
   "source": [
    "minute_representation = minute.reset_index()\n",
    "minute_representation = minute_representation[['Date','OPEN']].groupby(minute_representation['Date'].\\\n",
    "                                                dt.strftime('%Y-%m-%d')).mean().reset_index()"
   ]
  },
  {
   "cell_type": "code",
   "execution_count": null,
   "metadata": {},
   "outputs": [],
   "source": [
    "# Create traces\n",
    "trace0 = go.Scatter(\n",
    "    x = positives['versionCreated'],\n",
    "    y = positives['Categorization'],\n",
    "    line = dict(color = 'green'),\n",
    "    mode = 'lines+markers',\n",
    "    name = 'Positive news',\n",
    "    yaxis='y2'\n",
    ")\n",
    "trace1 = go.Scatter(\n",
    "    x = negatives['versionCreated'],\n",
    "    y = negatives['Categorization'],\n",
    "    line = dict(color = 'red'),\n",
    "    mode = 'lines+markers',\n",
    "    name = 'Negative news',\n",
    "    yaxis='y2'\n",
    ")\n",
    "trace2 = go.Scatter(\n",
    "    x = neutrals['versionCreated'],\n",
    "    y = neutrals['Categorization'],\n",
    "    line = dict(color = 'orange'),\n",
    "    mode = 'lines+markers',\n",
    "    name = 'Neutral news',\n",
    "    yaxis='y2'\n",
    ")\n",
    "trace3 = go.Scatter(\n",
    "    x = minute_representation['Date'],\n",
    "    y = minute_representation['OPEN'],\n",
    "    line=go.Line(shape='hv', color='black'),\n",
    "    mode = 'lines',\n",
    "    fill='tonexty',\n",
    "    name = 'Share price'\n",
    ")\n",
    "datos = [trace0, trace1, trace2, trace3]\n",
    "\n",
    "layout = dict(title = u'IBM News Sentiment Analysis',\n",
    "                xaxis = dict(title = u'Date'),\n",
    "                yaxis = dict(title = u'Share price'),\n",
    "                yaxis2=dict(\n",
    "                    title=u'Number of news',\n",
    "                    overlaying='y',\n",
    "                    side='right'\n",
    "                )\n",
    "              )\n",
    "\n",
    "fig = dict(data=datos, layout=layout)\n",
    "iplot(fig, filename='analysis-news')"
   ]
  },
  {
   "cell_type": "code",
   "execution_count": null,
   "metadata": {},
   "outputs": [],
   "source": [
    "df.to_csv('.data/analysis_news_file.csv', encoding='utf-8', sep=';', index=False)"
   ]
  }
 ],
 "metadata": {
  "kernelspec": {
   "display_name": "Python 3",
   "language": "python",
   "name": "python3"
  },
  "language_info": {
   "codemirror_mode": {
    "name": "ipython",
    "version": 3
   },
   "file_extension": ".py",
   "mimetype": "text/x-python",
   "name": "python",
   "nbconvert_exporter": "python",
   "pygments_lexer": "ipython3",
   "version": "3.7.4"
  }
 },
 "nbformat": 4,
 "nbformat_minor": 2
}
